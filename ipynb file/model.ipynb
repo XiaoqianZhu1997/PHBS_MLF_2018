{
 "cells": [
  {
   "cell_type": "raw",
   "metadata": {},
   "source": [
    "Data set 1 means undersampling set, data set 2 means oversampling set."
   ]
  },
  {
   "cell_type": "code",
   "execution_count": null,
   "metadata": {},
   "outputs": [],
   "source": [
    "import numpy as np \n",
    "import pandas as pd\n",
    "import matplotlib.pyplot as plt\n",
    "import matplotlib.mlab as mlab\n",
    "import seaborn\n",
    "import pickle"
   ]
  },
  {
   "cell_type": "code",
   "execution_count": null,
   "metadata": {},
   "outputs": [],
   "source": [
    "f = open(\"C:\\\\Users\\\\谢婷谢婷\\\\Desktop\\\\creditcard\\\\train_test.data\", 'rb')\n",
    "# load data\n",
    "dataset = pickle.load(f)\n",
    "#generating variables\n",
    "X_test1=dataset[0]\n",
    "X_test2=dataset[1]\n",
    "X_train1=dataset[2]\n",
    "X_train2=dataset[3]\n",
    "y_test1=dataset[4]\n",
    "y_test2=dataset[5]\n",
    "y_train1=dataset[6]\n",
    "y_train2=dataset[7]"
   ]
  },
  {
   "cell_type": "code",
   "execution_count": null,
   "metadata": {},
   "outputs": [],
   "source": [
    "# KNN\n",
    "from sklearn.neighbors import KNeighborsClassifier\n",
    "knc = KNeighborsClassifier(n_neighbors = 3)\n",
    "knc.fit(X_train1,y_train1)\n",
    "y_knc = knc.predict(X_test1)\n",
    "print('accuracy of training set1: {:.4f}'.format(knc.score(X_train1,y_train1)))\n",
    "print('accuracy of test set1: {:.4f}'.format(knc.score(X_test1, y_test1)))\n",
    "#when choosing n_neighbors=3,we have the maximum acuracy of test set1\n",
    "\n",
    "knc = KNeighborsClassifier(n_neighbors = 3)\n",
    "knc.fit(X_train2,y_train2)\n",
    "y_knc = knc.predict(X_test2)\n",
    "print('accuracy of training set2: {:.4f}'.format(knc.score(X_train2,y_train2)))\n",
    "print('accuracy of test set2: {:.4f}'.format(knc.score(X_test2, y_test2)))"
   ]
  },
  {
   "cell_type": "code",
   "execution_count": null,
   "metadata": {},
   "outputs": [],
   "source": [
    "#Logistic\n",
    "from sklearn.linear_model import LogisticRegression\n",
    "logreg = LogisticRegression(random_state = 0)\n",
    "logreg.fit(X_train1, y_train1)\n",
    "y_lr = logreg.predict(X_test1)\n",
    "logreg.score(X_test1, y_test1)\n",
    "print('accuracy of training set1: {:.4f}'.format(logreg.score(X_train1,y_train1)))\n",
    "print('accuaracy of test set1: {:.4f}'.format(logreg.score(X_test1, y_test1)))\n",
    "#accuracy of training set1: 0.9555 accuaracy of test set1: 0.9391\n",
    "\n",
    "logreg = LogisticRegression(random_state = 1)\n",
    "logreg.fit(X_train2, y_train2)\n",
    "y_lr = logreg.predict(X_test2)\n",
    "logreg.score(X_test2, y_test2)\n",
    "print('accuracy of training set2: {:.4f}'.format(logreg.score(X_train2,y_train2)))\n",
    "print('accuaracy of test set2: {:.4f}'.format(logreg.score(X_test2, y_test2)))"
   ]
  },
  {
   "cell_type": "code",
   "execution_count": null,
   "metadata": {},
   "outputs": [],
   "source": [
    "#SVM\n",
    "# Scikit-learn library: For SVM\n",
    "from sklearn import preprocessing\n",
    "from sklearn.metrics import confusion_matrix\n",
    "from sklearn import svm\n",
    "import itertools\n",
    "\n",
    "classifier = svm.SVC(kernel='linear') \n",
    "classifier.fit(X_train1, y_train1)\n",
    "prediction_SVM_all1 = classifier.predict(X_test1)\n",
    "cm1 = confusion_matrix(y_test1, prediction_SVM_all1)\n",
    "print('We have detected ' + str(cm1[1][1]) + ' frauds / ' + str(cm1[1][1]+cm1[1][0]) + ' total frauds.')\n",
    "print('\\nSo, the probability to detect a fraud is ' + str(cm1[1][1]/(cm1[1][1]+cm1[1][0])))\n",
    "print(\"the accuracy is : \"+str((cm1[0][0]+cm1[1][1]) / (sum(cm1[0]) + sum(cm1[1]))))\n",
    "#So, the probability to detect a fraud is 0.89 the accuracy is : 0.9390862944162437\n",
    "\n",
    "\n",
    "classifier = svm.SVC(kernel='linear') \n",
    "classifier.fit(X_train2, y_train2)\n",
    "prediction_SVM_all2 = classifier.predict(X_test2)\n",
    "cm2 = confusion_matrix(y_test2, prediction_SVM_all2)\n",
    "print('We have detected ' + str(cm2[1][1]) + ' frauds / ' + str(cm2[1][1]+cm1[1][0]) + ' total frauds.')\n",
    "print('\\nSo, the probability to detect a fraud is ' + str(cm2[1][1]/(cm1[1][1]+cm2[1][0])))\n",
    "print(\"the accuracy is : \"+str((cm2[0][0]+cm2[1][1]) / (sum(cm2[0]) + sum(cm2[1]))))"
   ]
  }
 ],
 "metadata": {
  "kernelspec": {
   "display_name": "Python 3",
   "language": "python",
   "name": "python3"
  },
  "language_info": {
   "codemirror_mode": {
    "name": "ipython",
    "version": 3
   },
   "file_extension": ".py",
   "mimetype": "text/x-python",
   "name": "python",
   "nbconvert_exporter": "python",
   "pygments_lexer": "ipython3",
   "version": "3.6.5"
  }
 },
 "nbformat": 4,
 "nbformat_minor": 2
}
