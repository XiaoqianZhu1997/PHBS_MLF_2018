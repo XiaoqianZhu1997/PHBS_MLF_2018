# -*- coding: utf-8 -*-
"""
Created on Fri Oct 26 10:44:55 2018

@author: Xie
"""

import numpy as np 
import pandas as pd
import matplotlib.pyplot as plt
import matplotlib.mlab as mlab
import seaborn
import pickle



f = open("C:\\Users\\谢婷谢婷\\Desktop\\creditcard\\train_test.data", 'rb')
# load data
dataset = pickle.load(f)
#generating variables
X_test1=dataset[0]
X_test2=dataset[1]
X_train1=dataset[2]
X_train2=dataset[3]
y_test1=dataset[4]
y_test2=dataset[5]
y_train1=dataset[6]
y_train2=dataset[7]

# KNN
from sklearn.neighbors import KNeighborsClassifier
knc = KNeighborsClassifier(n_neighbors = 3)
knc.fit(X_train1,y_train1)
y_knc = knc.predict(X_test1)
print('accuracy of training set1: {:.4f}'.format(knc.score(X_train1,y_train1)))
print('accuracy of test set1: {:.4f}'.format(knc.score(X_test1, y_test1)))
#when choosing n_neighbors=3,we have the maximum acuracy of test set1

knc = KNeighborsClassifier(n_neighbors = 3)
knc.fit(X_train2,y_train2)
y_knc = knc.predict(X_test2)
print('accuracy of training set2: {:.4f}'.format(knc.score(X_train2,y_train2)))
print('accuracy of test set2: {:.4f}'.format(knc.score(X_test2, y_test2)))
#0.9995 accuracy

#Logistic
from sklearn.linear_model import LogisticRegression
logreg = LogisticRegression(random_state = 0)
logreg.fit(X_train1, y_train1)
y_lr = logreg.predict(X_test1)
logreg.score(X_test1, y_test1)
print('accuracy of training set1: {:.4f}'.format(logreg.score(X_train1,y_train1)))
print('accuaracy of test set1: {:.4f}'.format(logreg.score(X_test1, y_test1)))
#accuracy of training set1: 0.9555 accuaracy of test set1: 0.9391

logreg = LogisticRegression(random_state = 1)
logreg.fit(X_train2, y_train2)
y_lr = logreg.predict(X_test2)
logreg.score(X_test2, y_test2)
print('accuracy of training set2: {:.4f}'.format(logreg.score(X_train2,y_train2)))
print('accuaracy of test set2: {:.4f}'.format(logreg.score(X_test2, y_test2)))

#SVM
# Scikit-learn library: For SVM
from sklearn import preprocessing
from sklearn.metrics import confusion_matrix
from sklearn import svm
import itertools

classifier = svm.SVC(kernel='linear') 
classifier.fit(X_train1, y_train1)
prediction_SVM_all1 = classifier.predict(X_test1)
cm1 = confusion_matrix(y_test1, prediction_SVM_all1)
print('We have detected ' + str(cm1[1][1]) + ' frauds / ' + str(cm1[1][1]+cm1[1][0]) + ' total frauds.')
print('\nSo, the probability to detect a fraud is ' + str(cm1[1][1]/(cm1[1][1]+cm1[1][0])))
print("the accuracy is : "+str((cm1[0][0]+cm1[1][1]) / (sum(cm1[0]) + sum(cm1[1]))))
#So, the probability to detect a fraud is 0.89 the accuracy is : 0.9390862944162437


classifier = svm.SVC(kernel='linear') 
classifier.fit(X_train2, y_train2)
prediction_SVM_all2 = classifier.predict(X_test2)
cm2 = confusion_matrix(y_test2, prediction_SVM_all2)
print('We have detected ' + str(cm2[1][1]) + ' frauds / ' + str(cm2[1][1]+cm1[1][0]) + ' total frauds.')
print('\nSo, the probability to detect a fraud is ' + str(cm2[1][1]/(cm1[1][1]+cm2[1][0])))
print("the accuracy is : "+str((cm2[0][0]+cm2[1][1]) / (sum(cm2[0]) + sum(cm2[1]))))









